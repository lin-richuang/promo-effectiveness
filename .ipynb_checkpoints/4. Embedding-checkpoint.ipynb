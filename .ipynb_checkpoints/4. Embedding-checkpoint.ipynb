{
 "cells": [
  {
   "cell_type": "markdown",
   "metadata": {},
   "source": [
    "\n",
    "# Explore embedding feature\n"
   ]
  },
  {
   "cell_type": "code",
   "execution_count": 2,
   "metadata": {},
   "outputs": [],
   "source": [
    "import pandas as pd\n",
    "import numpy as np\n",
    "\n",
    "import warnings\n",
    "\n",
    "warnings.simplefilter(\"ignore\")\n",
    "pd.options.display.max_columns = None"
   ]
  },
  {
   "cell_type": "code",
   "execution_count": null,
   "metadata": {},
   "outputs": [
    {
     "name": "stderr",
     "output_type": "stream",
     "text": [
      "Using TensorFlow backend.\n"
     ]
    }
   ],
   "source": [
    "from sklearn import linear_model\n",
    "\n",
    "from keras.models import Sequential\n",
    "from keras.models import Model as KerasModel\n",
    "from keras.layers import Input, Dense, Activation, Reshape, Concatenate\n",
    "from keras.callbacks import ModelCheckpoint\n",
    "from keras.layers.embeddings import Embedding\n",
    "import tensorflow as tf\n",
    "from sklearn.preprocessing import LabelEncoder\n",
    "\n",
    "import pickle"
   ]
  },
  {
   "cell_type": "code",
   "execution_count": null,
   "metadata": {},
   "outputs": [],
   "source": [
    "TRAIN_RATIO = 0.9\n",
    "\n",
    "SHUFFLE_DATA = False\n",
    "SAVED_EMBEDDING = True\n",
    "EMBEDDING_AS_INPUT = True"
   ]
  },
  {
   "cell_type": "code",
   "execution_count": null,
   "metadata": {},
   "outputs": [],
   "source": [
    "saved_embeddings_fname = \"models/embeddings.pickle\" \n",
    "label_encoder_pickle = 'models/les.pickle'\n",
    "embedded_ridge_model = 'models/embedded_ridge_model.pickle'"
   ]
  },
  {
   "cell_type": "markdown",
   "metadata": {},
   "source": [
    "# Read input data"
   ]
  },
  {
   "cell_type": "code",
   "execution_count": 5,
   "metadata": {},
   "outputs": [],
   "source": [
    "processed_path = 'processed/'\n",
    "processed_file = 'processed_data.csv'\n",
    "X = pd.read_csv(processed_path + processed_file)\n",
    "y = X.pop('Sales')"
   ]
  },
  {
   "cell_type": "code",
   "execution_count": 1,
   "metadata": {},
   "outputs": [],
   "source": [
    "def consolidate_holiday(df):\n",
    "    df['holiday'] = 0\n",
    "    df.loc[df['holiday_public'] ==1, 'holiday'] = 1\n",
    "    df.loc[df['holiday_easter'] ==1, 'holiday'] = 2\n",
    "    df.loc[df['holiday_christmas'] ==1, 'holiday'] = 3\n",
    "    return df.drop(columns = ['holiday_public', 'holiday_no', 'holiday_easter', 'holiday_christmas'])"
   ]
  },
  {
   "cell_type": "code",
   "execution_count": null,
   "metadata": {},
   "outputs": [],
   "source": [
    "X = consolidate_holiday(X)"
   ]
  },
  {
   "cell_type": "code",
   "execution_count": null,
   "metadata": {},
   "outputs": [],
   "source": [
    "X = X[['Store', 'year','weekofyear','DayOfWeek',  'holiday', \n",
    "        'Promo', 'SchoolHoliday']]\n",
    "X_np = X.to_numpy()"
   ]
  },
  {
   "cell_type": "code",
   "execution_count": 10,
   "metadata": {},
   "outputs": [
    {
     "name": "stdout",
     "output_type": "stream",
     "text": [
      "1115\n",
      "3\n",
      "52\n",
      "7\n",
      "4\n",
      "2\n",
      "2\n"
     ]
    }
   ],
   "source": [
    "for col in X.columns:\n",
    "    print(X[col].nunique())"
   ]
  },
  {
   "cell_type": "code",
   "execution_count": 12,
   "metadata": {},
   "outputs": [],
   "source": [
    "les = []\n",
    "for i in range(5):\n",
    "    \"\"\" Only need to encode the first 5 columns\n",
    "    \"\"\"\n",
    "    le = LabelEncoder()\n",
    "    le.fit(X_np[:, i])\n",
    "    les.append(le)\n",
    "    X_np[:, i] = le.transform(X_np[:, i])"
   ]
  },
  {
   "cell_type": "code",
   "execution_count": 13,
   "metadata": {},
   "outputs": [],
   "source": [
    "with open(label_encoder_pickle, 'wb') as f:\n",
    "    pickle.dump(les, f, -1)"
   ]
  },
  {
   "cell_type": "code",
   "execution_count": 14,
   "metadata": {},
   "outputs": [
    {
     "data": {
      "text/plain": [
       "array(['0', '1', '2', '3'], dtype=object)"
      ]
     },
     "execution_count": 14,
     "metadata": {},
     "output_type": "execute_result"
    }
   ],
   "source": [
    "le.classes_"
   ]
  },
  {
   "cell_type": "markdown",
   "metadata": {},
   "source": [
    "# Split data"
   ]
  },
  {
   "cell_type": "code",
   "execution_count": 17,
   "metadata": {},
   "outputs": [],
   "source": [
    "# Use last 10% data as validation data\n",
    "num_record = len(X_np)\n",
    "train_size = int(TRAIN_RATIO * num_record)\n",
    "X_train = X_np[:train_size]\n",
    "y_train = y[:train_size]\n",
    "X_val = X_np[train_size:]\n",
    "y_val = y[train_size:]"
   ]
  },
  {
   "cell_type": "code",
   "execution_count": 16,
   "metadata": {},
   "outputs": [
    {
     "name": "stdout",
     "output_type": "stream",
     "text": [
      "Using shuffled data\n"
     ]
    }
   ],
   "source": [
    "if SHUFFLE_DATA:\n",
    "    print(\"Using shuffled data\")\n",
    "    sh = np.arange(X_train.shape[0])\n",
    "    np.random.shuffle(sh)\n",
    "    X_train = X_train[sh]\n",
    "    y_train = y_train[sh]"
   ]
  },
  {
   "cell_type": "code",
   "execution_count": null,
   "metadata": {},
   "outputs": [],
   "source": []
  },
  {
   "cell_type": "code",
   "execution_count": null,
   "metadata": {},
   "outputs": [],
   "source": []
  },
  {
   "cell_type": "code",
   "execution_count": null,
   "metadata": {},
   "outputs": [],
   "source": []
  },
  {
   "cell_type": "markdown",
   "metadata": {},
   "source": [
    "# Build models"
   ]
  },
  {
   "cell_type": "code",
   "execution_count": 26,
   "metadata": {},
   "outputs": [],
   "source": [
    "class Model(object):\n",
    "    def evaluate(self, X_val, y_val):\n",
    "        assert min(y_val) > 0\n",
    "        guessed_sales = self.guess(X_val)\n",
    "        relative_err = np.absolute((y_val - guessed_sales) / y_val)\n",
    "        result = np.sum(relative_err) / len(y_val)\n",
    "        return result\n",
    "\n",
    "    def rsqr_score(self, X_val, y_val):\n",
    "        assert min(y_val) > 0\n",
    "        guessed_sales = self.guess(X_val)\n",
    "        SS_Residual = sum((y_val - guessed_sales) ** 2)\n",
    "        SS_Total = sum((y_val - np.mean(y_val)) ** 2)\n",
    "        r_squared = 1 - (float(SS_Residual)) / SS_Total\n",
    "        adjusted_r_squared = 1 - (1 - r_squared) * (len(y_val) - 1) / (\n",
    "            len(y_val) - X_val.shape[1] - 1\n",
    "        )\n",
    "        return adjusted_r_squared"
   ]
  },
  {
   "cell_type": "code",
   "execution_count": 82,
   "metadata": {},
   "outputs": [],
   "source": [
    "class RidgeRegression(Model):\n",
    "    def __init__(self, X_train, y_train, X_val, y_val):\n",
    "        super().__init__()\n",
    "        self.clf = linear_model.Ridge(alpha=1.0)\n",
    "        self.clf.fit(X_train, np.log(y_train))\n",
    "        print(\"MAPE on validation set is: \", self.evaluate(X_val, y_val))\n",
    "        print(\"R squared on validation set is: \", self.rsqr_score(X_val, y_val))\n",
    "\n",
    "    def guess(self, features):\n",
    "        return np.exp(self.clf.predict(features))\n",
    "    \n",
    "    def model(self):\n",
    "        coef = self.clf.coef_\n",
    "        intercept = self.clf.intercept_\n",
    "        return coef, intercept, self.clf"
   ]
  },
  {
   "cell_type": "code",
   "execution_count": 153,
   "metadata": {},
   "outputs": [
    {
     "data": {
      "text/plain": [
       "Index(['Store', 'year', 'weekofyear', 'DayOfWeek', 'holiday', 'Promo',\n",
       "       'SchoolHoliday'],\n",
       "      dtype='object')"
      ]
     },
     "execution_count": 153,
     "metadata": {},
     "output_type": "execute_result"
    }
   ],
   "source": [
    "X.columns"
   ]
  },
  {
   "cell_type": "code",
   "execution_count": 154,
   "metadata": {},
   "outputs": [],
   "source": [
    "def split_features(X):\n",
    "    x_list = []\n",
    "\n",
    "    store_index = X[..., [0]]\n",
    "    x_list.append(store_index)\n",
    "\n",
    "    year = X[..., [1]]\n",
    "    x_list.append(year)\n",
    "\n",
    "    week = X[..., [2]]\n",
    "    x_list.append(week)\n",
    "\n",
    "    day_of_week = X[..., [3]]\n",
    "    x_list.append(day_of_week)\n",
    "\n",
    "    holiday = X[..., [4]]\n",
    "    x_list.append(holiday)\n",
    "\n",
    "    promo = X[..., [5]]\n",
    "    x_list.append(promo)\n",
    "\n",
    "    SchoolHoliday = X[..., [6]]\n",
    "    x_list.append(SchoolHoliday)\n",
    "    \n",
    "    return x_list"
   ]
  },
  {
   "cell_type": "code",
   "execution_count": 155,
   "metadata": {},
   "outputs": [],
   "source": [
    "class NN_with_entity_embedding(Model):\n",
    "    def __init__(self, X_train, y_train, X_val, y_val):\n",
    "        super().__init__()\n",
    "        self.epochs = 1\n",
    "        #         self.checkpoint = ModelCheckpoint(filepath='best_model_weights.hdf5', verbose=1, save_best_only=True)\n",
    "        self.max_log_y = max(np.max(np.log1p(y_train)), np.max(np.log1p(y_val)))\n",
    "        # self.__build_keras_model()\n",
    "        self.__build_keras_model_for_ridge_embedding()\n",
    "        self.fit(X_train, y_train, X_val, y_val)\n",
    "\n",
    "    def preprocessing(self, X):\n",
    "        X_list = split_features(X)\n",
    "        return X_list\n",
    "\n",
    "    def __build_keras_model_for_ridge_embedding(self):\n",
    "        input_store = Input(shape=(1,))\n",
    "        output_store = Embedding(1115, 500, name=\"store_embedding\")(input_store)\n",
    "        output_store = Reshape(target_shape=(500,))(output_store)\n",
    "\n",
    "        input_year = Input(shape=(1,))\n",
    "        output_year = Embedding(3, 2, name=\"year_embedding\")(input_year)\n",
    "        output_year = Reshape(target_shape=(2,))(output_year)\n",
    "\n",
    "        input_week = Input(shape=(1,))\n",
    "        output_week = Embedding(52, 24, name=\"weekofyear\")(input_week)\n",
    "        output_week = Reshape(target_shape=(24,))(output_week)\n",
    "\n",
    "        input_dow = Input(shape=(1,))\n",
    "        output_dow = Embedding(7, 6, name=\"dow_embedding\")(input_dow)\n",
    "        output_dow = Reshape(target_shape=(6,))(output_dow)\n",
    "\n",
    "        input_holiday = Input(shape=(1,))\n",
    "        output_holiday = Embedding(4, 2, name=\"holiday_embedding\")(input_holiday)\n",
    "        output_holiday = Reshape(target_shape=(2,))(output_holiday)\n",
    "\n",
    "        input_promo = Input(shape=(1,))\n",
    "        output_promo = Dense(1)(input_promo)\n",
    "\n",
    "        input_SchoolHoliday = Input(shape=(1,))\n",
    "        output_SchoolHoliday = Dense(1)(input_SchoolHoliday)\n",
    "\n",
    "        input_model = [\n",
    "            input_store,\n",
    "            input_year,\n",
    "            input_week,\n",
    "            input_dow,\n",
    "            input_holiday,\n",
    "            input_promo,\n",
    "            input_SchoolHoliday,\n",
    "        ]\n",
    "        output_embeddings = [\n",
    "            output_store,\n",
    "            output_year,\n",
    "            output_week,\n",
    "            output_dow,\n",
    "            output_holiday,\n",
    "            output_promo,\n",
    "            output_SchoolHoliday,\n",
    "        ]\n",
    "\n",
    "        output_model = Concatenate()(\n",
    "            output_embeddings\n",
    "        )  # concatenate all embeddings into a list of inputs\n",
    "        output_model = Dense(1000, kernel_initializer=\"uniform\")(output_model)\n",
    "        output_model = Activation(\"relu\")(output_model)\n",
    "        output_model = Dense(500, kernel_initializer=\"uniform\")(output_model)\n",
    "        output_model = Activation(\"relu\")(output_model)\n",
    "        output_model = Dense(1)(output_model)\n",
    "        output_model = Activation(\"sigmoid\")(output_model)  # Because the target is rescaled to [0,1]\n",
    "\n",
    "        self.model = KerasModel(inputs=input_model, outputs=output_model)\n",
    "\n",
    "        # self.model.compile(loss='mean_absolute_error', optimizer='adam')\n",
    "        self.model.compile(\n",
    "            loss=tf.keras.losses.MeanAbsolutePercentageError(), optimizer=\"sgd\"\n",
    "        )\n",
    "\n",
    "    def _val_for_fit(self, val):\n",
    "        return np.log(val) / self.max_log_y\n",
    "\n",
    "    def _val_for_pred(self, val):\n",
    "        return np.exp(val * self.max_log_y)\n",
    "\n",
    "    def fit(self, X_train, y_train, X_val, y_val):\n",
    "        self.model.fit(\n",
    "            self.preprocessing(X_train),\n",
    "            self._val_for_fit(y_train),\n",
    "            validation_data=(self.preprocessing(X_val), self._val_for_fit(y_val)),\n",
    "            epochs=self.epochs,\n",
    "            batch_size=128,\n",
    "            # callbacks=[self.checkpoint]\n",
    "        )\n",
    "        # self.model.load_weights('best_model_weights.hdf5')\n",
    "        print(\"Result on validation data: \", self.evaluate(X_val, y_val))\n",
    "\n",
    "    def guess(self, features):\n",
    "        features = self.preprocessing(features)\n",
    "        result = self.model.predict(features).flatten()\n",
    "        return self._val_for_pred(result)\n"
   ]
  },
  {
   "cell_type": "markdown",
   "metadata": {},
   "source": [
    "# Model training"
   ]
  },
  {
   "cell_type": "code",
   "execution_count": 168,
   "metadata": {},
   "outputs": [
    {
     "name": "stdout",
     "output_type": "stream",
     "text": [
      "Fitting NN_with_entity_embedding...\n",
      "Train on 759904 samples, validate on 84434 samples\n",
      "Epoch 1/1\n",
      "759904/759904 [==============================] - 63s 83us/step - loss: 2.0980 - val_loss: 2.7076\n",
      "Result on validation data:  0.20744442814690786\n"
     ]
    }
   ],
   "source": [
    "print(\"Fitting NN_with_entity_embedding just for one epoch\")\n",
    "models = []\n",
    "models.append(NN_with_entity_embedding(X_train, y_train, X_val, y_val))"
   ]
  },
  {
   "cell_type": "code",
   "execution_count": 192,
   "metadata": {},
   "outputs": [],
   "source": [
    "if SAVED_EMBEDDING:\n",
    "    model = models[0].model\n",
    "    store_embedding = model.get_layer('store_embedding').get_weights()[0]\n",
    "    year_embedding = model.get_layer('year_embedding').get_weights()[0]\n",
    "    weekofyear = model.get_layer('weekofyear').get_weights()[0]\n",
    "    dow_embedding = model.get_layer('dow_embedding').get_weights()[0]\n",
    "    holiday_embedding = model.get_layer('holiday_embedding').get_weights()[0]\n",
    "\n",
    "    with open(saved_embeddings_fname, 'wb') as f:\n",
    "        pickle.dump([store_embedding, year_embedding, weekofyear, dow_embedding, holiday_embedding], f, -1)"
   ]
  },
  {
   "cell_type": "code",
   "execution_count": 19,
   "metadata": {},
   "outputs": [
    {
     "data": {
      "text/plain": [
       "Index(['Store', 'year', 'weekofyear', 'DayOfWeek', 'holiday', 'Promo',\n",
       "       'SchoolHoliday'],\n",
       "      dtype='object')"
      ]
     },
     "execution_count": 19,
     "metadata": {},
     "output_type": "execute_result"
    }
   ],
   "source": [
    "X.columns"
   ]
  },
  {
   "cell_type": "markdown",
   "metadata": {},
   "source": [
    "# Add embedding features for Ridge regression"
   ]
  },
  {
   "cell_type": "code",
   "execution_count": 20,
   "metadata": {},
   "outputs": [],
   "source": [
    "def embed_features(X, saved_embeddings_fname):\n",
    "    # f_embeddings = open(\"embeddings_shuffled.pickle\", \"rb\")\n",
    "    f_embeddings = open(saved_embeddings_fname, \"rb\")\n",
    "    embeddings = pickle.load(f_embeddings)\n",
    "\n",
    "    # first number is the column number of the data\n",
    "    # second number is the number of embedding file\n",
    "    index_embedding_mapping = {0: 0, 1: 1, 2: 2, 3: 3, 4: 4}\n",
    "    X_embedded = []\n",
    "\n",
    "    for record in X:\n",
    "        embedded_features = []\n",
    "        for i, feat in enumerate(record):\n",
    "            feat = int(feat)\n",
    "            if i not in index_embedding_mapping.keys():\n",
    "                embedded_features += [feat]\n",
    "            else:\n",
    "                embedding_index = index_embedding_mapping[i]\n",
    "                embedded_features += embeddings[embedding_index][feat].tolist()\n",
    "\n",
    "        X_embedded.append(embedded_features)\n",
    "\n",
    "    return np.array(X_embedded)"
   ]
  },
  {
   "cell_type": "code",
   "execution_count": 21,
   "metadata": {},
   "outputs": [],
   "source": [
    "X_embedded = embed_features(X_np, saved_embeddings_fname)"
   ]
  },
  {
   "cell_type": "code",
   "execution_count": 22,
   "metadata": {},
   "outputs": [],
   "source": [
    "X_train_embedded = X_embedded[:train_size]\n",
    "X_val_embedded = X_embedded[train_size:]"
   ]
  },
  {
   "cell_type": "code",
   "execution_count": 203,
   "metadata": {},
   "outputs": [
    {
     "name": "stdout",
     "output_type": "stream",
     "text": [
      "Fitting Ridge Model without embedding\n",
      "MAPE on validation set is:  0.3025903570648116\n",
      "R squared on validation set is:  0.12080269757253848\n"
     ]
    }
   ],
   "source": [
    "print(\"Fitting Ridge Model without embedding\")\n",
    "ridge_model = RidgeRegression(X_train, y_train, X_val, y_val)"
   ]
  },
  {
   "cell_type": "code",
   "execution_count": 84,
   "metadata": {},
   "outputs": [
    {
     "name": "stdout",
     "output_type": "stream",
     "text": [
      "Fitting Ridge Model with embedding\n",
      "MAPE on validation set is:  0.14669741102180572\n",
      "R squared on validation set is:  0.788096684990228\n"
     ]
    }
   ],
   "source": [
    "print(\"Fitting Ridge Model with embedding\")\n",
    "ridge_model = RidgeRegression(X_train_embedded, y_train, X_val_embedded, y_val)"
   ]
  },
  {
   "cell_type": "code",
   "execution_count": null,
   "metadata": {},
   "outputs": [],
   "source": []
  },
  {
   "cell_type": "markdown",
   "metadata": {},
   "source": [
    "Simply using embedding feaures significantly improve the score"
   ]
  },
  {
   "cell_type": "code",
   "execution_count": 86,
   "metadata": {},
   "outputs": [],
   "source": [
    "coef, intercept, model = ridge_model.model()"
   ]
  },
  {
   "cell_type": "code",
   "execution_count": 87,
   "metadata": {},
   "outputs": [],
   "source": [
    "with open(embedded_ridge_model, 'wb') as f:\n",
    "    pickle.dump(model, f, -1)"
   ]
  },
  {
   "cell_type": "code",
   "execution_count": 34,
   "metadata": {},
   "outputs": [
    {
     "data": {
      "text/plain": [
       "(536,)"
      ]
     },
     "execution_count": 34,
     "metadata": {},
     "output_type": "execute_result"
    }
   ],
   "source": [
    "coef.shape"
   ]
  },
  {
   "cell_type": "code",
   "execution_count": 47,
   "metadata": {},
   "outputs": [
    {
     "data": {
      "text/plain": [
       "array([0.03361238])"
      ]
     },
     "execution_count": 47,
     "metadata": {},
     "output_type": "execute_result"
    }
   ],
   "source": [
    "# coef of school holidays \n",
    "coef[-1:]"
   ]
  },
  {
   "cell_type": "code",
   "execution_count": 46,
   "metadata": {},
   "outputs": [
    {
     "data": {
      "text/plain": [
       "array([0.32545082])"
      ]
     },
     "execution_count": 46,
     "metadata": {},
     "output_type": "execute_result"
    }
   ],
   "source": [
    "# coef of promotion \n",
    "coef[-2:-1]"
   ]
  },
  {
   "cell_type": "code",
   "execution_count": 43,
   "metadata": {},
   "outputs": [
    {
     "data": {
      "text/plain": [
       "array([1.60582696, 0.65275221])"
      ]
     },
     "execution_count": 43,
     "metadata": {},
     "output_type": "execute_result"
    }
   ],
   "source": [
    "# coef of holidays\n",
    "coef[-4:-2]"
   ]
  },
  {
   "cell_type": "code",
   "execution_count": 45,
   "metadata": {},
   "outputs": [
    {
     "data": {
      "text/plain": [
       "array([-0.10039099,  0.04165739, -0.00163901,  0.39482345,  0.46062902,\n",
       "        0.98530572])"
      ]
     },
     "execution_count": 45,
     "metadata": {},
     "output_type": "execute_result"
    }
   ],
   "source": [
    "# coef of dow\n",
    "coef[-10:-4]"
   ]
  },
  {
   "cell_type": "code",
   "execution_count": 31,
   "metadata": {},
   "outputs": [
    {
     "data": {
      "text/plain": [
       "8.61187205595797"
      ]
     },
     "execution_count": 31,
     "metadata": {},
     "output_type": "execute_result"
    }
   ],
   "source": [
    "intercept"
   ]
  },
  {
   "cell_type": "code",
   "execution_count": null,
   "metadata": {},
   "outputs": [],
   "source": []
  },
  {
   "cell_type": "markdown",
   "metadata": {},
   "source": [
    "# Make a prediction"
   ]
  },
  {
   "cell_type": "code",
   "execution_count": 64,
   "metadata": {
    "scrolled": true
   },
   "outputs": [],
   "source": [
    "prediction_data = pd.DataFrame(data = {'Store': [1,1], \n",
    "                                      'year':[2015,2015],\n",
    "                                      'weekofyear':[31,31],\n",
    "                                      'DayOfWeek': [5,5],\n",
    "                                      'holiday': ['0','0'],\n",
    "                                      'Promo': [0,1],\n",
    "                                      'SchoolHoliday': [0,0]})"
   ]
  },
  {
   "cell_type": "code",
   "execution_count": 65,
   "metadata": {},
   "outputs": [
    {
     "data": {
      "text/html": [
       "<div>\n",
       "<style scoped>\n",
       "    .dataframe tbody tr th:only-of-type {\n",
       "        vertical-align: middle;\n",
       "    }\n",
       "\n",
       "    .dataframe tbody tr th {\n",
       "        vertical-align: top;\n",
       "    }\n",
       "\n",
       "    .dataframe thead th {\n",
       "        text-align: right;\n",
       "    }\n",
       "</style>\n",
       "<table border=\"1\" class=\"dataframe\">\n",
       "  <thead>\n",
       "    <tr style=\"text-align: right;\">\n",
       "      <th></th>\n",
       "      <th>Store</th>\n",
       "      <th>year</th>\n",
       "      <th>weekofyear</th>\n",
       "      <th>DayOfWeek</th>\n",
       "      <th>holiday</th>\n",
       "      <th>Promo</th>\n",
       "      <th>SchoolHoliday</th>\n",
       "    </tr>\n",
       "  </thead>\n",
       "  <tbody>\n",
       "    <tr>\n",
       "      <th>0</th>\n",
       "      <td>1</td>\n",
       "      <td>2015</td>\n",
       "      <td>31</td>\n",
       "      <td>5</td>\n",
       "      <td>0</td>\n",
       "      <td>0</td>\n",
       "      <td>0</td>\n",
       "    </tr>\n",
       "    <tr>\n",
       "      <th>1</th>\n",
       "      <td>1</td>\n",
       "      <td>2015</td>\n",
       "      <td>31</td>\n",
       "      <td>5</td>\n",
       "      <td>0</td>\n",
       "      <td>1</td>\n",
       "      <td>0</td>\n",
       "    </tr>\n",
       "  </tbody>\n",
       "</table>\n",
       "</div>"
      ],
      "text/plain": [
       "   Store  year  weekofyear  DayOfWeek holiday  Promo  SchoolHoliday\n",
       "0      1  2015          31          5       0      0              0\n",
       "1      1  2015          31          5       0      1              0"
      ]
     },
     "execution_count": 65,
     "metadata": {},
     "output_type": "execute_result"
    }
   ],
   "source": [
    "prediction_data"
   ]
  },
  {
   "cell_type": "code",
   "execution_count": 66,
   "metadata": {},
   "outputs": [],
   "source": [
    "pred_np = prediction_data.to_numpy()"
   ]
  },
  {
   "cell_type": "code",
   "execution_count": 67,
   "metadata": {},
   "outputs": [
    {
     "data": {
      "text/plain": [
       "array([[1, 2015, 31, 5, '0', 0, 0],\n",
       "       [1, 2015, 31, 5, '0', 1, 0]], dtype=object)"
      ]
     },
     "execution_count": 67,
     "metadata": {},
     "output_type": "execute_result"
    }
   ],
   "source": [
    "pred_np"
   ]
  },
  {
   "cell_type": "code",
   "execution_count": 68,
   "metadata": {},
   "outputs": [],
   "source": [
    "# Load LabelEncoders\n",
    "with open(label_encoder_pickle, 'rb') as f:\n",
    "    les = pickle.load(f)"
   ]
  },
  {
   "cell_type": "code",
   "execution_count": 69,
   "metadata": {},
   "outputs": [
    {
     "name": "stdout",
     "output_type": "stream",
     "text": [
      "[1 2 3 ... 1113 1114 1115]\n",
      "[2013 2014 2015]\n",
      "[1 2 3 4 5 6 7 8 9 10 11 12 13 14 15 16 17 18 19 20 21 22 23 24 25 26 27\n",
      " 28 29 30 31 32 33 34 35 36 37 38 39 40 41 42 43 44 45 46 47 48 49 50 51\n",
      " 52]\n",
      "[1 2 3 4 5 6 7]\n",
      "['0' '1' '2' '3']\n"
     ]
    }
   ],
   "source": [
    "for i in range(5):\n",
    "    print(les[i].classes_)"
   ]
  },
  {
   "cell_type": "code",
   "execution_count": 70,
   "metadata": {},
   "outputs": [],
   "source": [
    "for i in range(5):\n",
    "    \"\"\" Only need to encode the first 5 columns\n",
    "    \"\"\"\n",
    "    pred_np[:, i] = les[i].transform(pred_np[:, i])"
   ]
  },
  {
   "cell_type": "code",
   "execution_count": 72,
   "metadata": {},
   "outputs": [],
   "source": [
    "pred_embedded = embed_features(pred_np, saved_embeddings_fname)"
   ]
  },
  {
   "cell_type": "code",
   "execution_count": 78,
   "metadata": {},
   "outputs": [],
   "source": [
    "prediction_data['sales_prediction']= ridge_model.guess(pred_embedded).astype(int)"
   ]
  },
  {
   "cell_type": "code",
   "execution_count": 79,
   "metadata": {},
   "outputs": [
    {
     "data": {
      "text/html": [
       "<div>\n",
       "<style scoped>\n",
       "    .dataframe tbody tr th:only-of-type {\n",
       "        vertical-align: middle;\n",
       "    }\n",
       "\n",
       "    .dataframe tbody tr th {\n",
       "        vertical-align: top;\n",
       "    }\n",
       "\n",
       "    .dataframe thead th {\n",
       "        text-align: right;\n",
       "    }\n",
       "</style>\n",
       "<table border=\"1\" class=\"dataframe\">\n",
       "  <thead>\n",
       "    <tr style=\"text-align: right;\">\n",
       "      <th></th>\n",
       "      <th>Store</th>\n",
       "      <th>year</th>\n",
       "      <th>weekofyear</th>\n",
       "      <th>DayOfWeek</th>\n",
       "      <th>holiday</th>\n",
       "      <th>Promo</th>\n",
       "      <th>SchoolHoliday</th>\n",
       "      <th>sales_prediction</th>\n",
       "    </tr>\n",
       "  </thead>\n",
       "  <tbody>\n",
       "    <tr>\n",
       "      <th>0</th>\n",
       "      <td>1</td>\n",
       "      <td>2015</td>\n",
       "      <td>31</td>\n",
       "      <td>5</td>\n",
       "      <td>0</td>\n",
       "      <td>0</td>\n",
       "      <td>0</td>\n",
       "      <td>4366</td>\n",
       "    </tr>\n",
       "    <tr>\n",
       "      <th>1</th>\n",
       "      <td>1</td>\n",
       "      <td>2015</td>\n",
       "      <td>31</td>\n",
       "      <td>5</td>\n",
       "      <td>0</td>\n",
       "      <td>1</td>\n",
       "      <td>0</td>\n",
       "      <td>6045</td>\n",
       "    </tr>\n",
       "  </tbody>\n",
       "</table>\n",
       "</div>"
      ],
      "text/plain": [
       "   Store  year  weekofyear  DayOfWeek holiday  Promo  SchoolHoliday  \\\n",
       "0      1  2015          31          5       0      0              0   \n",
       "1      1  2015          31          5       0      1              0   \n",
       "\n",
       "   sales_prediction  \n",
       "0              4366  \n",
       "1              6045  "
      ]
     },
     "execution_count": 79,
     "metadata": {},
     "output_type": "execute_result"
    }
   ],
   "source": [
    "prediction_data"
   ]
  },
  {
   "cell_type": "code",
   "execution_count": null,
   "metadata": {},
   "outputs": [],
   "source": []
  }
 ],
 "metadata": {
  "kernelspec": {
   "display_name": "Python 3",
   "language": "python",
   "name": "python3"
  },
  "language_info": {
   "codemirror_mode": {
    "name": "ipython",
    "version": 3
   },
   "file_extension": ".py",
   "mimetype": "text/x-python",
   "name": "python",
   "nbconvert_exporter": "python",
   "pygments_lexer": "ipython3",
   "version": "3.7.7"
  }
 },
 "nbformat": 4,
 "nbformat_minor": 4
}
