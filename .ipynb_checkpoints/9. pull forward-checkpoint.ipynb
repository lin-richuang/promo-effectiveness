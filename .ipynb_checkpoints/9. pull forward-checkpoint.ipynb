{
 "cells": [
  {
   "cell_type": "markdown",
   "metadata": {},
   "source": [
    "Pull forward is evaluated at customer item/category level\n",
    "\n",
    "The idea is that certain customers stock up things on promotion, so the buying pattern changes because of promotions. \n",
    "\n",
    "There are many limitations regarding pull forward. \n",
    "\n",
    "The major one is that not every category are eligible for pull forward analysis, example: computer, calendar.\n",
    "\n",
    "Simply nobody is going to stock up these products becasue they are on promotion.\n",
    "\n",
    "The most likely categories are the ones that customers purchase frequently, such as toilet paper. "
   ]
  },
  {
   "cell_type": "markdown",
   "metadata": {},
   "source": [
    "There are 2 different ways to calculate pull forward effect, but the main idea is the same. Differentiate the purchase pattern by promotion, if certain customer groups behave totally different becasue of promotion, then we say that the promotion has pull forward impact. \n",
    "    1. calculate the buying frequencies with and without promotions. If the promotion does not have any effect, the distribution should be similar. Z-test is a good way to understand the behavior of the 2 distributions. if Z score is largert than 3, then we can say that the promotion has significant impact on consumer behavior. \n",
    "    2. use regression model (poisson) to calculate the number of transactions that a customer will make within a certain period of time. future 90 days vs past "
   ]
  },
  {
   "cell_type": "code",
   "execution_count": null,
   "metadata": {},
   "outputs": [],
   "source": []
  },
  {
   "cell_type": "code",
   "execution_count": null,
   "metadata": {},
   "outputs": [],
   "source": []
  },
  {
   "cell_type": "code",
   "execution_count": null,
   "metadata": {},
   "outputs": [],
   "source": []
  },
  {
   "cell_type": "code",
   "execution_count": null,
   "metadata": {},
   "outputs": [],
   "source": []
  }
 ],
 "metadata": {
  "kernelspec": {
   "display_name": "Python 3",
   "language": "python",
   "name": "python3"
  },
  "language_info": {
   "codemirror_mode": {
    "name": "ipython",
    "version": 3
   },
   "file_extension": ".py",
   "mimetype": "text/x-python",
   "name": "python",
   "nbconvert_exporter": "python",
   "pygments_lexer": "ipython3",
   "version": "3.7.7"
  }
 },
 "nbformat": 4,
 "nbformat_minor": 4
}
