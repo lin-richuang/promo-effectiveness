{
 "cells": [
  {
   "cell_type": "markdown",
   "metadata": {},
   "source": [
    "# Baseline of non promo sales"
   ]
  },
  {
   "cell_type": "code",
   "execution_count": 10,
   "metadata": {},
   "outputs": [],
   "source": [
    "import pandas as pd\n",
    "import numpy as np\n",
    "from sklearn.preprocessing import LabelEncoder\n",
    "import pickle\n",
    "import warnings\n",
    "\n",
    "warnings.simplefilter(\"ignore\")\n",
    "pd.options.display.max_columns = None"
   ]
  },
  {
   "cell_type": "code",
   "execution_count": 2,
   "metadata": {},
   "outputs": [],
   "source": [
    "import matplotlib.pyplot as plt"
   ]
  },
  {
   "cell_type": "markdown",
   "metadata": {},
   "source": [
    "# Read data"
   ]
  },
  {
   "cell_type": "code",
   "execution_count": 37,
   "metadata": {},
   "outputs": [],
   "source": [
    "saved_embeddings_fname = \"models/embeddings.pickle\" \n",
    "label_encoder_pickle = 'models/les.pickle'\n",
    "embedded_ridge_model = 'models/embedded_ridge_model.pickle'"
   ]
  },
  {
   "cell_type": "code",
   "execution_count": 38,
   "metadata": {},
   "outputs": [],
   "source": [
    "processed_path = 'processed/'\n",
    "processed_file = 'processed_data.csv'\n",
    "df = pd.read_csv(processed_path + processed_file)"
   ]
  },
  {
   "cell_type": "markdown",
   "metadata": {},
   "source": [
    "# Baseline set promo = 0"
   ]
  },
  {
   "cell_type": "code",
   "execution_count": 39,
   "metadata": {},
   "outputs": [],
   "source": [
    "df['Promo'] = 0"
   ]
  },
  {
   "cell_type": "markdown",
   "metadata": {},
   "source": [
    "# Preprocessing"
   ]
  },
  {
   "cell_type": "code",
   "execution_count": 40,
   "metadata": {},
   "outputs": [],
   "source": [
    "def consolidate_holiday(df):\n",
    "    df['holiday'] = '0'\n",
    "    df.loc[df['holiday_public'] ==1, 'holiday'] = '1'\n",
    "    df.loc[df['holiday_easter'] ==1, 'holiday'] = '2'\n",
    "    df.loc[df['holiday_christmas'] ==1, 'holiday'] = '3'\n",
    "    return df.drop(columns = ['holiday_public', 'holiday_no', 'holiday_easter', 'holiday_christmas'])"
   ]
  },
  {
   "cell_type": "code",
   "execution_count": 41,
   "metadata": {},
   "outputs": [],
   "source": [
    "df = consolidate_holiday(df)"
   ]
  },
  {
   "cell_type": "code",
   "execution_count": 42,
   "metadata": {},
   "outputs": [],
   "source": [
    "X = df[['Store', 'year','weekofyear','DayOfWeek',  'holiday', \n",
    "        'Promo', 'SchoolHoliday']]\n",
    "X_np = X.to_numpy()"
   ]
  },
  {
   "cell_type": "code",
   "execution_count": 43,
   "metadata": {},
   "outputs": [],
   "source": [
    "# Load LabelEncoders\n",
    "with open(label_encoder_pickle, 'rb') as f:\n",
    "    les = pickle.load(f)"
   ]
  },
  {
   "cell_type": "code",
   "execution_count": 44,
   "metadata": {},
   "outputs": [],
   "source": [
    "for i in range(5):\n",
    "    \"\"\" Only need to encode the first 5 columns\n",
    "    \"\"\"\n",
    "    X_np[:, i] = les[i].transform(X_np[:, i])"
   ]
  },
  {
   "cell_type": "code",
   "execution_count": 45,
   "metadata": {},
   "outputs": [],
   "source": [
    "def embed_features(X, saved_embeddings_fname):\n",
    "    # f_embeddings = open(\"embeddings_shuffled.pickle\", \"rb\")\n",
    "    f_embeddings = open(saved_embeddings_fname, \"rb\")\n",
    "    embeddings = pickle.load(f_embeddings)\n",
    "\n",
    "    # first number is the column number of the data\n",
    "    # second number is the number of embedding file\n",
    "    index_embedding_mapping = {0: 0, 1: 1, 2: 2, 3: 3, 4: 4}\n",
    "    X_embedded = []\n",
    "\n",
    "    for record in X:\n",
    "        embedded_features = []\n",
    "        for i, feat in enumerate(record):\n",
    "            feat = int(feat)\n",
    "            if i not in index_embedding_mapping.keys():\n",
    "                embedded_features += [feat]\n",
    "            else:\n",
    "                embedding_index = index_embedding_mapping[i]\n",
    "                embedded_features += embeddings[embedding_index][feat].tolist()\n",
    "\n",
    "        X_embedded.append(embedded_features)\n",
    "\n",
    "    return np.array(X_embedded)"
   ]
  },
  {
   "cell_type": "code",
   "execution_count": 46,
   "metadata": {},
   "outputs": [],
   "source": [
    "pred_embedded = embed_features(X_np, saved_embeddings_fname)"
   ]
  },
  {
   "cell_type": "markdown",
   "metadata": {},
   "source": [
    "# Prediction"
   ]
  },
  {
   "cell_type": "code",
   "execution_count": 47,
   "metadata": {},
   "outputs": [],
   "source": [
    "# Load model\n",
    "with open(embedded_ridge_model, 'rb') as f:\n",
    "    ridge_model = pickle.load(f)"
   ]
  },
  {
   "cell_type": "code",
   "execution_count": 59,
   "metadata": {},
   "outputs": [],
   "source": [
    "df['prediction']= np.exp(ridge_model.predict(pred_embedded)).astype(int)\n",
    "df['baseline'] = df['prediction'].clip(0,df['Sales'])"
   ]
  },
  {
   "cell_type": "code",
   "execution_count": 60,
   "metadata": {},
   "outputs": [],
   "source": [
    "df['uplift'] = df['Sales'] - df['baseline']"
   ]
  },
  {
   "cell_type": "markdown",
   "metadata": {},
   "source": [
    "# Plot one store"
   ]
  },
  {
   "cell_type": "code",
   "execution_count": 61,
   "metadata": {},
   "outputs": [],
   "source": [
    "test_store = df.loc[df['Store']==1]"
   ]
  },
  {
   "cell_type": "code",
   "execution_count": 62,
   "metadata": {},
   "outputs": [
    {
     "data": {
      "text/html": [
       "<div>\n",
       "<style scoped>\n",
       "    .dataframe tbody tr th:only-of-type {\n",
       "        vertical-align: middle;\n",
       "    }\n",
       "\n",
       "    .dataframe tbody tr th {\n",
       "        vertical-align: top;\n",
       "    }\n",
       "\n",
       "    .dataframe thead th {\n",
       "        text-align: right;\n",
       "    }\n",
       "</style>\n",
       "<table border=\"1\" class=\"dataframe\">\n",
       "  <thead>\n",
       "    <tr style=\"text-align: right;\">\n",
       "      <th></th>\n",
       "      <th>Store</th>\n",
       "      <th>DayOfWeek</th>\n",
       "      <th>Sales</th>\n",
       "      <th>Promo</th>\n",
       "      <th>SchoolHoliday</th>\n",
       "      <th>year</th>\n",
       "      <th>weekofyear</th>\n",
       "      <th>holiday</th>\n",
       "      <th>sales_prediction</th>\n",
       "      <th>baseline</th>\n",
       "      <th>uplift</th>\n",
       "      <th>prediction</th>\n",
       "    </tr>\n",
       "  </thead>\n",
       "  <tbody>\n",
       "    <tr>\n",
       "      <th>0</th>\n",
       "      <td>1097</td>\n",
       "      <td>2</td>\n",
       "      <td>5961</td>\n",
       "      <td>0</td>\n",
       "      <td>1</td>\n",
       "      <td>2013</td>\n",
       "      <td>1</td>\n",
       "      <td>1</td>\n",
       "      <td>7801</td>\n",
       "      <td>5961</td>\n",
       "      <td>0</td>\n",
       "      <td>7801</td>\n",
       "    </tr>\n",
       "    <tr>\n",
       "      <th>1</th>\n",
       "      <td>85</td>\n",
       "      <td>2</td>\n",
       "      <td>4220</td>\n",
       "      <td>0</td>\n",
       "      <td>1</td>\n",
       "      <td>2013</td>\n",
       "      <td>1</td>\n",
       "      <td>1</td>\n",
       "      <td>5666</td>\n",
       "      <td>4220</td>\n",
       "      <td>0</td>\n",
       "      <td>5666</td>\n",
       "    </tr>\n",
       "    <tr>\n",
       "      <th>2</th>\n",
       "      <td>259</td>\n",
       "      <td>2</td>\n",
       "      <td>6851</td>\n",
       "      <td>0</td>\n",
       "      <td>1</td>\n",
       "      <td>2013</td>\n",
       "      <td>1</td>\n",
       "      <td>1</td>\n",
       "      <td>9103</td>\n",
       "      <td>6851</td>\n",
       "      <td>0</td>\n",
       "      <td>9103</td>\n",
       "    </tr>\n",
       "    <tr>\n",
       "      <th>3</th>\n",
       "      <td>262</td>\n",
       "      <td>2</td>\n",
       "      <td>17267</td>\n",
       "      <td>0</td>\n",
       "      <td>1</td>\n",
       "      <td>2013</td>\n",
       "      <td>1</td>\n",
       "      <td>1</td>\n",
       "      <td>15929</td>\n",
       "      <td>15929</td>\n",
       "      <td>1338</td>\n",
       "      <td>15929</td>\n",
       "    </tr>\n",
       "    <tr>\n",
       "      <th>4</th>\n",
       "      <td>274</td>\n",
       "      <td>2</td>\n",
       "      <td>3102</td>\n",
       "      <td>0</td>\n",
       "      <td>1</td>\n",
       "      <td>2013</td>\n",
       "      <td>1</td>\n",
       "      <td>1</td>\n",
       "      <td>2919</td>\n",
       "      <td>2919</td>\n",
       "      <td>183</td>\n",
       "      <td>2919</td>\n",
       "    </tr>\n",
       "    <tr>\n",
       "      <th>...</th>\n",
       "      <td>...</td>\n",
       "      <td>...</td>\n",
       "      <td>...</td>\n",
       "      <td>...</td>\n",
       "      <td>...</td>\n",
       "      <td>...</td>\n",
       "      <td>...</td>\n",
       "      <td>...</td>\n",
       "      <td>...</td>\n",
       "      <td>...</td>\n",
       "      <td>...</td>\n",
       "      <td>...</td>\n",
       "    </tr>\n",
       "    <tr>\n",
       "      <th>844333</th>\n",
       "      <td>745</td>\n",
       "      <td>5</td>\n",
       "      <td>8363</td>\n",
       "      <td>0</td>\n",
       "      <td>1</td>\n",
       "      <td>2015</td>\n",
       "      <td>31</td>\n",
       "      <td>0</td>\n",
       "      <td>6552</td>\n",
       "      <td>6552</td>\n",
       "      <td>1811</td>\n",
       "      <td>6552</td>\n",
       "    </tr>\n",
       "    <tr>\n",
       "      <th>844334</th>\n",
       "      <td>746</td>\n",
       "      <td>5</td>\n",
       "      <td>9082</td>\n",
       "      <td>0</td>\n",
       "      <td>1</td>\n",
       "      <td>2015</td>\n",
       "      <td>31</td>\n",
       "      <td>0</td>\n",
       "      <td>5546</td>\n",
       "      <td>5546</td>\n",
       "      <td>3536</td>\n",
       "      <td>5546</td>\n",
       "    </tr>\n",
       "    <tr>\n",
       "      <th>844335</th>\n",
       "      <td>747</td>\n",
       "      <td>5</td>\n",
       "      <td>10708</td>\n",
       "      <td>0</td>\n",
       "      <td>1</td>\n",
       "      <td>2015</td>\n",
       "      <td>31</td>\n",
       "      <td>0</td>\n",
       "      <td>7347</td>\n",
       "      <td>7347</td>\n",
       "      <td>3361</td>\n",
       "      <td>7347</td>\n",
       "    </tr>\n",
       "    <tr>\n",
       "      <th>844336</th>\n",
       "      <td>741</td>\n",
       "      <td>5</td>\n",
       "      <td>11253</td>\n",
       "      <td>0</td>\n",
       "      <td>1</td>\n",
       "      <td>2015</td>\n",
       "      <td>31</td>\n",
       "      <td>0</td>\n",
       "      <td>7195</td>\n",
       "      <td>7195</td>\n",
       "      <td>4058</td>\n",
       "      <td>7195</td>\n",
       "    </tr>\n",
       "    <tr>\n",
       "      <th>844337</th>\n",
       "      <td>1</td>\n",
       "      <td>5</td>\n",
       "      <td>5263</td>\n",
       "      <td>0</td>\n",
       "      <td>1</td>\n",
       "      <td>2015</td>\n",
       "      <td>31</td>\n",
       "      <td>0</td>\n",
       "      <td>4515</td>\n",
       "      <td>4515</td>\n",
       "      <td>748</td>\n",
       "      <td>4515</td>\n",
       "    </tr>\n",
       "  </tbody>\n",
       "</table>\n",
       "<p>844338 rows × 12 columns</p>\n",
       "</div>"
      ],
      "text/plain": [
       "        Store  DayOfWeek  Sales  Promo  SchoolHoliday  year  weekofyear  \\\n",
       "0        1097          2   5961      0              1  2013           1   \n",
       "1          85          2   4220      0              1  2013           1   \n",
       "2         259          2   6851      0              1  2013           1   \n",
       "3         262          2  17267      0              1  2013           1   \n",
       "4         274          2   3102      0              1  2013           1   \n",
       "...       ...        ...    ...    ...            ...   ...         ...   \n",
       "844333    745          5   8363      0              1  2015          31   \n",
       "844334    746          5   9082      0              1  2015          31   \n",
       "844335    747          5  10708      0              1  2015          31   \n",
       "844336    741          5  11253      0              1  2015          31   \n",
       "844337      1          5   5263      0              1  2015          31   \n",
       "\n",
       "       holiday  sales_prediction  baseline  uplift  prediction  \n",
       "0            1              7801      5961       0        7801  \n",
       "1            1              5666      4220       0        5666  \n",
       "2            1              9103      6851       0        9103  \n",
       "3            1             15929     15929    1338       15929  \n",
       "4            1              2919      2919     183        2919  \n",
       "...        ...               ...       ...     ...         ...  \n",
       "844333       0              6552      6552    1811        6552  \n",
       "844334       0              5546      5546    3536        5546  \n",
       "844335       0              7347      7347    3361        7347  \n",
       "844336       0              7195      7195    4058        7195  \n",
       "844337       0              4515      4515     748        4515  \n",
       "\n",
       "[844338 rows x 12 columns]"
      ]
     },
     "execution_count": 62,
     "metadata": {},
     "output_type": "execute_result"
    }
   ],
   "source": [
    "df"
   ]
  },
  {
   "cell_type": "code",
   "execution_count": null,
   "metadata": {},
   "outputs": [],
   "source": []
  }
 ],
 "metadata": {
  "kernelspec": {
   "display_name": "Python 3",
   "language": "python",
   "name": "python3"
  },
  "language_info": {
   "codemirror_mode": {
    "name": "ipython",
    "version": 3
   },
   "file_extension": ".py",
   "mimetype": "text/x-python",
   "name": "python",
   "nbconvert_exporter": "python",
   "pygments_lexer": "ipython3",
   "version": "3.7.7"
  }
 },
 "nbformat": 4,
 "nbformat_minor": 4
}
